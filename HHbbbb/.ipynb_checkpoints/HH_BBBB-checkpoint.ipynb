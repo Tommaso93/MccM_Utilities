{
 "cells": [
  {
   "cell_type": "code",
   "execution_count": null,
   "metadata": {},
   "outputs": [],
   "source": [
    "import pandas as pd\n",
    "import numpy as np\n",
    "import requests\n",
    "import re\n",
    "import csv"
   ]
  },
  {
   "cell_type": "markdown",
   "metadata": {},
   "source": [
    "### VBF HH production\n",
    "`VBF HH production`: All the samples are being requested to be remade with updated showering options and increased event statistics"
   ]
  },
  {
   "cell_type": "markdown",
   "metadata": {},
   "source": [
    "#### Pythia8 fragments for HHbbbb\n",
    "_PSWeights_ added!"
   ]
  },
  {
   "cell_type": "code",
   "execution_count": null,
   "metadata": {},
   "outputs": [],
   "source": [
    "pythia_fragment_run2_CUEP8M1 = \"\"\"import FWCore.ParameterSet.Config as cms                                                                                                                                  \n",
    "from Configuration.Generator.Pythia8CommonSettings_cfi import *                                                                                                                                             \n",
    "from Configuration.Generator.Pythia8CUEP8M1Settings_cfi import *                                                                                                                                            \n",
    "from Configuration.Generator.PSweightsPythia.PythiaPSweightsSettings_cfi import *                                                                                                                           \n",
    "                                                                                                                                                                                                            \n",
    "generator = cms.EDFilter(\"Pythia8HadronizerFilter\",                                                                                                                                                         \n",
    "                         maxEventsToPrint = cms.untracked.int32(1),                                                                                                                                         \n",
    "                         pythiaPylistVerbosity = cms.untracked.int32(1),                                                                                                                                    \n",
    "                         filterEfficiency = cms.untracked.double(1.0),                                                                                                                                      \n",
    "                         pythiaHepMCVerbosity = cms.untracked.bool(False),                                                                                                                                  \n",
    "                         comEnergy = cms.double(13000.),                                                                                                                                                    \n",
    "                         PythiaParameters = cms.PSet(                                                                                                                                                       \n",
    "        pythia8CommonSettingsBlock,                                                                                                                                                                         \n",
    "        pythia8CUEP8M1SettingsBlock,                                                                                                                                                                        \n",
    "        pythia8PSweightsSettingsBlock,                                                                                                                                                                      \n",
    "        processParameters = cms.vstring(                                                                                                                                                                    \n",
    "             __CHANNEL_DECAY_FRAGMENT__                                                                                                                                                                     \n",
    "          ),                                                                                                                                                                                                \n",
    "        parameterSets = cms.vstring('pythia8CommonSettings',                                                                                                                                                \n",
    "                                    'pythia8CUEP8M1Settings',                                                                                                                                               \n",
    "                                    'pythia8PSweightsSettings',                                                                                                                                             \n",
    "                                    'processParameters'                                                                                                                                                     \n",
    "                                    )                                                                                                                                                                       \n",
    "        )                                                                                                                                                                                                   \n",
    "                         )                                                                                                                                                                                  \n",
    "                                                                                                                                                                                                            \n",
    "                                                                                                                                                                                                            \n",
    "ProductionFilterSequence = cms.Sequence(generator)\"\"\"\n",
    "\n",
    "pythia_fragment_run2_CP5 = \"\"\"import FWCore.ParameterSet.Config as cms                                                                                                                                      \n",
    "from Configuration.Generator.Pythia8CommonSettings_cfi import *                                                                                                                                             \n",
    "from Configuration.Generator.MCTunes2017.PythiaCP5Settings_cfi import *                                                                                                                                     \n",
    "from Configuration.Generator.PSweightsPythia.PythiaPSweightsSettings_cfi import *                                                                                                                           \n",
    "                                                                                                                                                                                                            \n",
    "generator = cms.EDFilter(\"Pythia8HadronizerFilter\",                                                                                                                                                         \n",
    "                         maxEventsToPrint = cms.untracked.int32(1),                                                                                                                                         \n",
    "                         pythiaPylistVerbosity = cms.untracked.int32(1),                                                                                                                                    \n",
    "                         filterEfficiency = cms.untracked.double(1.0),                                                                                                                                      \n",
    "                         pythiaHepMCVerbosity = cms.untracked.bool(False),                                                                                                                                  \n",
    "                         comEnergy = cms.double(13000.),                                                                                                                                                    \n",
    "                         PythiaParameters = cms.PSet(                                                                                                                                                       \n",
    "        pythia8CommonSettingsBlock,                                                                                                                                                                         \n",
    "        pythia8CP5SettingsBlock,                                                                                                                                                                            \n",
    "        pythia8PSweightsSettingsBlock,                                                                                                                                                                      \n",
    "        processParameters = cms.vstring(                                                                                                                                                                    \n",
    "            __CHANNEL_DECAY_FRAGMENT__                                                                                                                                                                      \n",
    "          ),                                                                                                                                                                                                \n",
    "        parameterSets = cms.vstring('pythia8CommonSettings',                                                                                                                                                \n",
    "                                    'pythia8CP5Settings',                                                                                                                                                   \n",
    "                                    'pythia8PSweightsSettings',                                                                                                                                             \n",
    "                                    'processParameters'                                                                                                                                                     \n",
    "                                    )                                                                                                                                                                       \n",
    "        )                                                                                                                                                                                                   \n",
    "                         )                                                                                                                                                                                  \n",
    "                                                                                                                                                                                                            \n",
    "ProductionFilterSequence = cms.Sequence(generator)                                                                                                                                                          \n",
    "\"\"\""
   ]
  },
  {
   "cell_type": "code",
   "execution_count": null,
   "metadata": {},
   "outputs": [],
   "source": [
    "def fragmentsDictCreator (decay_fr):\n",
    "    dict = { '2016': pythia_fragment_run2_CUEP8M1.replace('__CHANNEL_DECAY_FRAGMENT__',decay_fr),\n",
    "             '2017': pythia_fragment_run2_CP5.replace('__CHANNEL_DECAY_FRAGMENT__',decay_fr),\n",
    "             '2018': pythia_fragment_run2_CP5.replace('__CHANNEL_DECAY_FRAGMENT__',decay_fr)\n",
    "                    }\n",
    "    return dict"
   ]
  },
  {
   "cell_type": "code",
   "execution_count": null,
   "metadata": {},
   "outputs": [],
   "source": [
    "LHEproducer = \"\"\"import FWCore.ParameterSet.Config as cms                                                                                                                                                  \n",
    "# link to card:                                                                                                                                                                                             \n",
    "# https://github.com/cms-sw/genproductions/tree/master/bin/MadGraph5_aMCatNLO/cards/production/2017/13TeV/VBF_HH                                                                                                                                                                                                                                                                                                                                                                                                    \n",
    "                                                                                                                                                                                                            \n",
    "externalLHEProducer = cms.EDProducer(\"ExternalLHEProducer\",                                                                                                                                                 \n",
    "    nEvents = cms.untracked.uint32(5000),                                                                                                                                                                   \n",
    "    outputFile = cms.string('cmsgrid_final.lhe'),                                                                                                                                                           \n",
    "    scriptName = cms.FileInPath('GeneratorInterface/LHEInterface/data/run_generic_tarball_cvmfs.sh'),                                                                                                       \n",
    "    numberOfParameters = cms.uint32(1),                                                                                                                                                                     \n",
    "    args = cms.vstring('__GRIDPACK__')                                                                                                                                                                      \n",
    ")                                                                                                                                                                                                           \n",
    "                                                                                                                                                                                                            \n",
    "__PYTHIA_FRAGMENT__                                                                                                                                                                                         \n",
    "\"\"\"\n"
   ]
  },
  {
   "cell_type": "code",
   "execution_count": null,
   "metadata": {},
   "outputs": [],
   "source": [
    "params_list = [[1, 1, 1], [1, 1, 0], [1, 1, 2], [1, 2, 1], [0.5, 1, 1], [1.5, 1, 1], [1, 0, 1]]\n",
    "years = [\"2016\", \"2017\", \"2018\"]\n",
    "gridpacks_dict = {}\n",
    "dataset_names = {}\n",
    "#gridpacks_dict = {'2016' : gp_vbf_2016, '2017': gp_vbf_2017, '2018': gp_vbf_2018}                                                                                                                          \n",
    "#dataset_names = {'2016' : 'VBF_HH_CV_{}_C2V_{}_C3_{}_TuneCUETP8M1_PSweights_13TeV-madgraph_pythia8',                                                                                                       \n",
    "#                 '2017' : 'VBF_HH_CV_{}_C2V_{}_C3_{}_TuneCP5_PSweights_13TeV-madgraph_pythia8',                                                                                                            \n",
    "#                 '2018' : 'VBF_HH_CV_{}_C2V_{}_C3_{}_TuneCP5_PSweights_13TeV-madgraph_pythia8'} "
   ]
  },
  {
   "cell_type": "code",
   "execution_count": null,
   "metadata": {},
   "outputs": [],
   "source": [
    "for year in range(len(years)):\n",
    "    gp_vbf_year = \"gp_vbf_\" + years[year]\n",
    "    gp_vbf_year = []\n",
    "    t_gp_year = \"VBF_HH_CV_{cv}_C2V_{c2v}_C3_{c3}_13TeV-madgraph_slc6_amd64_gcc630_CMSSW_9_3_16_tarball.tar.xz\"\n",
    "\n",
    "    if (years[year] == \"2016\"):\n",
    "        t_datasetname_year = 'VBF_HH_CV_{cv}_C2V_{c2v}_C3_{c3}_TuneCUETP8M1_PSweights_13TeV-madgraph_pythia8'\n",
    "    elif (years[year] == \"2017\" or years[year] == \"2018\"):\n",
    "        t_datasetname_year = 'VBF_HH_CV_{cv}_C2V_{c2v}_C3_{c3}_TuneCP5_PSweights_13TeV-madgraph_pythia8'\n",
    "    dataset_names_year = []\n",
    "\n",
    "    for i in range(len(params_list)):\n",
    "        d = {\"cv\":params_list[i][0], \"c2v\": params_list[i][1], \"c3\": params_list[i][2]}\n",
    "        gp_vbf_year.append(t_gp_year.format_map(d))\n",
    "        dataset_names_year.append(t_datasetname_year.format_map(d))\n",
    "        #gridpacks_dict.update( {years[year]:(gp_vbf_year, dataset_names_year)} )\n",
    "        gridpacks_dict.update( {years[year]:gp_vbf_year})\n",
    "        dataset_names.update( {years[year]:dataset_names_year} )\n",
    " \n",
    "print(dataset_names)\n",
    "#print(\"GRIDPACKS => \", gridpacks_dict['2016'][0])\n",
    "#print(\"DATASET NAMES => \", gridpacks_dict['2016'][2])\n",
    "#gridpacks_dict = {'VBF_HH' : {'2016': gp_vbf_2016, '2017': gp_vbf_2017, '2018': gp_vbf_2018}}                                                                                                              \n",
    "#for x in gridpacks_dict:                                                                                                                                                                                   \n",
    "#    print (x)                                                                                                                                                                                              \n",
    "#    for y in gridpacks_dict[x]:                                                                                                                                                                            \n",
    "#        print (y,':', gridpacks_dict[x][y])                 "
   ]
  },
  {
   "cell_type": "code",
   "execution_count": null,
   "metadata": {},
   "outputs": [],
   "source": [
    "vbf_hh_bbbb = '''                                                                                                                                                                                           \n",
    "'25:onMode = off',                                                                                                                                                                                          \n",
    "'25:onIfMatch = 5 -5',                                                                                                                                                                                      \n",
    "'ResonanceDecayFilter:filter = on',                                                                                                                                                                         \n",
    "'SpaceShower:dipoleRecoil = on'                                                                                                                                                                             \n",
    "'''\n",
    "#pythia_fragmets_dict = {'VBF_HH' : fragmentsDictCreator(vbf_hh_bbbb)}\n",
    "#production_modes_events = {'VBF_HH' : 4000000}\n"
   ]
  },
  {
   "cell_type": "markdown",
   "metadata": {},
   "source": [
    "## .csv Production"
   ]
  },
  {
   "cell_type": "code",
   "execution_count": null,
   "metadata": {},
   "outputs": [],
   "source": [
    "MadgraphVersion = re.compile(\"V5_2\\.[0-9]\\.[0-9]\")\n",
    "\n",
    "process_pythia_map = {'VBF_HH' : fragmentsDictCreator(vbf_hh_bbbb)}\n",
    "process = 'VBF_HH'\n",
    "\n",
    "#print (dataset_names)\n"
   ]
  },
  {
   "cell_type": "code",
   "execution_count": null,
   "metadata": {},
   "outputs": [],
   "source": [
    "#for year in range(len(years)):\n",
    "for year in gridpacks_dict:\n",
    "    print(year)\n",
    "    with open('HH_'+process+'_'+year+'.csv', 'w') as csvfile:\n",
    "        csvwriter = csv.writer(csvfile, delimiter=',',\n",
    "                            quotechar='\"', quoting=csv.QUOTE_MINIMAL)\n",
    "        csvwriter.writerow(['Dataset name','Events', 'fragment','notes','Generator'])\n",
    "        \n",
    "        param_files=[]\n",
    "        #[(gp,dname) for gp in gridpacks_dict for dname in dataset_names]\n",
    "        for gp in gridpacks_dict[year]: \n",
    "            for dname in dataset_names[year]:\n",
    "                param_files.append((gp, dname))\n",
    "                print(param_files) \n",
    "            #print('\\t %s - %s' %(key.replace('VALUE',value),path))\n",
    "            #version = MadgraphVersion.search(path).group(0)\n",
    "            version=\"2.6.5\"\n",
    "            #dataset_name = gridpacks_dict[year][][]\n",
    "            events=4000000\n",
    "            #final_fragment = LHEproducer.replace('__GRIDPACK__',gridpacks_dict[year][gp]) + '\\n' + process_pythia_map[year]\n",
    "            \n",
    "            #note = dataset_name.replace('_',' ')\n",
    "            #generators=\"Madgraph_\"+str(version)+\" Pythia8\"\n",
    "            #csvwriter.writerow([dataset_name, events, final_fragment, note, generators])"
   ]
  },
  {
   "cell_type": "code",
   "execution_count": null,
   "metadata": {},
   "outputs": [],
   "source": []
  }
 ],
 "metadata": {
  "kernelspec": {
   "display_name": "Python 3",
   "language": "python",
   "name": "python3"
  },
  "language_info": {
   "codemirror_mode": {
    "name": "ipython",
    "version": 3
   },
   "file_extension": ".py",
   "mimetype": "text/x-python",
   "name": "python",
   "nbconvert_exporter": "python",
   "pygments_lexer": "ipython3",
   "version": "3.7.4"
  }
 },
 "nbformat": 4,
 "nbformat_minor": 2
}
