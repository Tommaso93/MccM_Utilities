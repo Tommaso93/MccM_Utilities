{
 "cells": [
  {
   "cell_type": "code",
   "execution_count": 1,
   "metadata": {},
   "outputs": [],
   "source": [
    "import pandas as pd\n",
    "import numpy as np\n",
    "import requests\n",
    "import re\n",
    "import csv"
   ]
  },
  {
   "cell_type": "markdown",
   "metadata": {},
   "source": [
    "### HPlusAndH_ToWHH_ToL4B production"
   ]
  },
  {
   "cell_type": "markdown",
   "metadata": {},
   "source": [
    "#### Pythia8 fragments for HPlusAndH_ToWHH_ToL4B - Model 4FS + up to 2 jets from ISR\n",
    "_PSWeights_ added!"
   ]
  },
  {
   "cell_type": "code",
   "execution_count": 2,
   "metadata": {},
   "outputs": [],
   "source": [
    "pythia_fragment = \"\"\"from Configuration.Generator.Pythia8CommonSettings_cfi import *\n",
    "from Configuration.Generator.MCTunes2017.PythiaCP5Settings_cfi import *\n",
    "from Configuration.Generator.PSweightsPythia.PythiaPSweightsSettings_cfi import *\n",
    "\n",
    "generator = cms.EDFilter(\"Pythia8HadronizerFilter\",\n",
    "    maxEventsToPrint = cms.untracked.int32(1),\n",
    "    pythiaPylistVerbosity = cms.untracked.int32(1),\n",
    "    filterEfficiency = cms.untracked.double(1.0),\n",
    "    pythiaHepMCVerbosity = cms.untracked.bool(False),\n",
    "    comEnergy = cms.double(13000.),\n",
    "    PythiaParameters = cms.PSet(\n",
    "        pythia8CommonSettingsBlock,\n",
    "        pythia8CP5SettingsBlock,\n",
    "        pythia8PSweightsSettingsBlock,\n",
    "        processParameters = cms.vstring(\n",
    "            'JetMatching:setMad = off',\n",
    "            'JetMatching:scheme = 1',\n",
    "            'JetMatching:merge = on',\n",
    "            'JetMatching:jetAlgorithm = 2',\n",
    "            'JetMatching:etaJetMax = 5.',\n",
    "            'JetMatching:coneRadius = 1.',\n",
    "            'JetMatching:slowJetPower = 1',\n",
    "            'JetMatching:qCut = 30.', #this is the actual merging scale\n",
    "            'JetMatching:nQmatch = 4', #4 for 4-flavour scheme (matching of b-quarks)\n",
    "            'JetMatching:nJetMax = 2', #number of partons in born matrix element for highest multiplicity\n",
    "            'JetMatching:doShowerKt = off', #off for MLM matching, turn on for shower-kT matching\n",
    "        ),\n",
    "        parameterSets = cms.vstring('pythia8CommonSettings',\n",
    "                                    'pythia8CP5Settings',\n",
    "                                    'pythia8PSweightsSettings',\n",
    "                                    'processParameters',\n",
    "                                    )\n",
    "    )\n",
    ")                                                                                                                                                                                                           \n",
    "                                                                                                                                                                                                            \n",
    "ProductionFilterSequence = cms.Sequence(generator)\"\"\""
   ]
  },
  {
   "cell_type": "code",
   "execution_count": 3,
   "metadata": {},
   "outputs": [],
   "source": [
    "LHEproducer = \"\"\"import FWCore.ParameterSet.Config as cms                                                                                                                                                  \n",
    "#Link to Madgraph datacard:\n",
    "#https://github.com/cms-sw/genproductions/blob/a2862dacd642f95af327278fd8a888a3a00d2c3a/bin/MadGraph5_aMCatNLO/cards/production/13TeV/HPlusAndH_ToWHH_ToL4B/HPlusAndH_ToWHH_ToL4B_proc_card.dat\n",
    "\n",
    "#Link to Pythia fragment:\n",
    "#https://github.com/DaveBrun94/genproductions/blob/68e4dcfd2694cb9f84421f76e9b48ead041aab3b/python/ThirteenTeV/HPlusAndH_ToWHH_ToL4B/HPlusAndH_ToWHH_ToL4B_TuneCP5_13TeV_madgraph_MLM_4f_pythia8_cff.py\n",
    "                                                                                                                                                                                                            \n",
    "externalLHEProducer = cms.EDProducer(\"ExternalLHEProducer\",                                                                                                                                                 \n",
    "    nEvents = cms.untracked.uint32(5000),                                                                                                                                                                   \n",
    "    outputFile = cms.string('cmsgrid_final.lhe'),                                                                                                                                                           \n",
    "    scriptName = cms.FileInPath('GeneratorInterface/LHEInterface/data/run_generic_tarball_cvmfs.sh'),                                                                                                       \n",
    "    numberOfParameters = cms.uint32(1),                                                                                                                                                                     \n",
    "    args = cms.vstring('__GRIDPACK__')                                                                                                                                                                      \n",
    ")                                                                                                                                                                                                                                                                                                                                                                                                                                                                                                                                           \n",
    "\"\"\"\n"
   ]
  },
  {
   "cell_type": "code",
   "execution_count": 4,
   "metadata": {},
   "outputs": [],
   "source": [
    "MHC_list = ['200', '300', '400', '500', '600']\n",
    "MH_list = ['70', '80', '90', '100', '110']\n",
    "#gridpacks_dict = {}\n",
    "#dataset_names = {}\n",
    "dataset_names = []\n",
    "gp = []"
   ]
  },
  {
   "cell_type": "code",
   "execution_count": 5,
   "metadata": {},
   "outputs": [],
   "source": [
    "t_datasetname = 'HPlusAndH_ToWHH_ToL4B_{mhc}_{mh}_TuneCP5_PSWeights_13TeV-madgraph-pythia8'\n",
    "t_gp = \"/cvmfs/cms.cern.ch/phys_generator/gridpacks/UL/13TeV/madgraph/V5_2.6.1/HPlusAndH_ToWHH_ToL4B_{mhc}_{mh}/v1/HPlusAndH_ToWHH_ToL4B_{mhc}_{mh}_slc7_amd64_gcc700_CMSSW_10_6_0_tarball.tar.xz\"    \n",
    "    \n",
    "for i in range(len(MHC_list)):\n",
    "    for j in range(len(MH_list)):\n",
    "        d = {\"mhc\":MHC_list[i], \"mh\":MH_list[j]}\n",
    "        gp.append(t_gp.format_map(d))\n",
    "        dataset_names.append(t_datasetname.format_map(d))\n",
    "        #gridpacks_dict.update({gp})\n",
    "        #dataset_names.update({dataset_names})"
   ]
  },
  {
   "cell_type": "markdown",
   "metadata": {},
   "source": [
    "## .csv Production"
   ]
  },
  {
   "cell_type": "code",
   "execution_count": 6,
   "metadata": {},
   "outputs": [],
   "source": [
    "years = [\"2016\", \"2016APV\", \"2017\", \"2018\"]\n",
    "for year in range(len(years)):\n",
    "    if (years[year] == \"2016\" or years[year] == \"2016APV\"):\n",
    "        events=250000\n",
    "    elif (years[year] == \"2017\" or years[year] == \"2018\"):\n",
    "        events=500000\n",
    "    #print(dataset_names[n])\n",
    "    #print(gp[n])\n",
    "    with open('HPlusAndH_ToWHH_ToL4B_' + years[year] + '.csv', 'w') as csvfile:\n",
    "        csvwriter = csv.writer(csvfile, delimiter=',',\n",
    "                        quotechar='\"', quoting=csv.QUOTE_MINIMAL)\n",
    "        csvwriter.writerow(['Dataset name','Events', 'fragment','notes','Generator'])\n",
    "        version=\"2.6.1\"\n",
    "        for n in range (0,25):\n",
    "            dataset_name = dataset_names[n]\n",
    "            final_fragment = LHEproducer.replace('__GRIDPACK__',gp[n]) + '\\n' + pythia_fragment\n",
    "            note = dataset_name.replace('_',' ')\n",
    "            generators=\"Madgraph_\" + version + \"  Pythia8\"\n",
    "            csvwriter.writerow([dataset_name, events, final_fragment, note, generators])"
   ]
  },
  {
   "cell_type": "code",
   "execution_count": null,
   "metadata": {},
   "outputs": [],
   "source": []
  },
  {
   "cell_type": "code",
   "execution_count": null,
   "metadata": {},
   "outputs": [],
   "source": []
  }
 ],
 "metadata": {
  "kernelspec": {
   "display_name": "Python 3",
   "language": "python",
   "name": "python3"
  },
  "language_info": {
   "codemirror_mode": {
    "name": "ipython",
    "version": 3
   },
   "file_extension": ".py",
   "mimetype": "text/x-python",
   "name": "python",
   "nbconvert_exporter": "python",
   "pygments_lexer": "ipython3",
   "version": "3.7.4"
  }
 },
 "nbformat": 4,
 "nbformat_minor": 2
}
